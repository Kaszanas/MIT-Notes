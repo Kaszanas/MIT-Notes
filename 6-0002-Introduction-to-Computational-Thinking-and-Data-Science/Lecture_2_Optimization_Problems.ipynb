{
 "cells": [
  {
   "cell_type": "code",
   "execution_count": null,
   "metadata": {},
   "outputs": [],
   "source": [
    "from IPython.display import YouTubeVideo\n",
    "YouTubeVideo('uK5yvoXnkSk')"
   ]
  },
  {
   "cell_type": "markdown",
   "metadata": {},
   "source": [
    "Explicit link: https://www.youtube.com/watch?v=uK5yvoXnkSk"
   ]
  },
  {
   "cell_type": "markdown",
   "metadata": {},
   "source": [
    "# Course 6.0002 \"Introduction to Computational Thinking and Data Science\" (Fall 2016)\n",
    "\n",
    "## Lecture 2 - \"Optimization problems\""
   ]
  },
  {
   "cell_type": "markdown",
   "metadata": {},
   "source": [
    "### Pros and cons of greedy algorithms\n",
    "\n",
    "Pros:\n",
    "- Easy to implement\n",
    "- Computationally efficient\n",
    "\n",
    "\n",
    "Cons:\n",
    "- Does not always yield the best solution\n",
    "- We don't know how good the approximation is "
   ]
  },
  {
   "cell_type": "markdown",
   "metadata": {},
   "source": [
    "## Algorithm that finds the best solution\n",
    "\n",
    "1. Enumerate all possible combinations of items\n",
    "2. Remove all of the combinations whose total units exceeds the allowed weight\n",
    "3. From the remaining combinations choose any one whose value is the largest\n",
    "\n",
    "There are lots of different ways to implement it.\n",
    "\n",
    "### Search Tree\n",
    "\n",
    "Draw a root node, right path means we didn't take and the consequence of such action, left means we took the items and the consequence of such action.\n",
    "\n",
    "Apply recursively and check which choice fits the constraints:\n",
    "\n",
    "- Left-first, depth-first enumeration with backtracking.\n",
    "\n",
    "Left leaf of the tree will have all of the possible items inside of it.\n",
    "Right leaf of the tree will have none of the items inside of it.\n",
    "\n",
    "- Check which leaf fits the constraint.\n",
    "\n",
    "#### Computational complexity\n",
    "\n",
    "Time is based on the number of nodes generated (if You know the number of nodes You know asymptotic complexity of the algorithm).\n",
    "\n",
    "- Number of levels is number of items to choose from\n",
    "- Number of nodes at level $i$ is $2^{i}$\n",
    "\n",
    "If there are $n$ items the number of nodes is:\n",
    "\n",
    "$$\n",
    "\\large \\sum_{i=0}^{i=n}2^{i}\n",
    "$$\n",
    "\n",
    "So the complexity of the algorithm is:\n",
    "\n",
    "$$\n",
    "\\large O(2^{n+1})\n",
    "$$\n",
    "\n",
    "#### Obvious optimization\n",
    "\n",
    "Don't explore the parts of the tree that violate constraints (e.g. too many calories)\n",
    "\n",
    "- Please note that this does not change complexity"
   ]
  },
  {
   "cell_type": "markdown",
   "metadata": {},
   "source": [
    "## Algorithm implementation\n",
    "\n",
    "- Please note that the code presented below is formatted differently than the one that was included in the talk as I am used to PEP8\n",
    "\n",
    "```python\n",
    "\n",
    "from typing import List\n",
    "\n",
    "def max_value(to_consider: List, avail):\n",
    "   \"\"\"\n",
    "   Assumes to_consider a list of items, avail a weight.\n",
    "   Returns a tuple of total value of a solution to 0/1 knapsack problem and the items of that solution.\n",
    "   \"\"\"\n",
    "\n",
    "    if to_consider == [] or avail == 0:\n",
    "        result = (0, ())\n",
    "    elif to_consider[0].get_cost() > avail:\n",
    "        # Explore right branch only\n",
    "        result = max_val(to_consider[1:], avail)\n",
    "    else:\n",
    "        next_item = to_consider[0]\n",
    "        \n",
    "        # Explore left branch\n",
    "        with_val, with_to_take = max_val(to_consider[1:], avail - next_item.get_cost())\n",
    "        with_val += next_item.get_value()\n",
    "        \n",
    "        # Explore right branch\n",
    "        \n",
    "        # I can't read this part of the code from the screen on the presentation:\n",
    "        without_val, without_to_take = max_val(to_consider[1:], avail)\n",
    "\n",
    "        if with_val > without_val:\n",
    "            result = (with_val, with_to_take + (next_item,))\n",
    "        else:\n",
    "            result = (without_val, without_to_take)\n",
    "\n",
    "```\n",
    "\n",
    "Stopped at 14:01 in the video (Will have to take notes of the things that are more insightful than the comments in the code so that it might be usfeul later."
   ]
  },
  {
   "cell_type": "code",
   "execution_count": null,
   "metadata": {},
   "outputs": [],
   "source": []
  }
 ],
 "metadata": {
  "kernelspec": {
   "display_name": "Python 3.7.3 64-bit",
   "language": "python",
   "name": "python37364bitedaabc8dd96e4c4aac034eac41f2acb0"
  }
 },
 "nbformat": 4,
 "nbformat_minor": 4
}
