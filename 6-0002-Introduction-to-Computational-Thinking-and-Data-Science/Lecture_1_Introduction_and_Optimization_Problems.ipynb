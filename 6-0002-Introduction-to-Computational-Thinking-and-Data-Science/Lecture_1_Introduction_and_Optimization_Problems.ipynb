{
 "cells": [
  {
   "cell_type": "code",
   "execution_count": null,
   "metadata": {},
   "outputs": [],
   "source": [
    "from IPython.display import YouTubeVideo\n",
    "YouTubeVideo('C1lhuz6pZC0')"
   ]
  },
  {
   "cell_type": "markdown",
   "metadata": {},
   "source": [
    "Explicit link: https://www.youtube.com/watch?v=C1lhuz6pZC0"
   ]
  },
  {
   "cell_type": "markdown",
   "metadata": {},
   "source": [
    "# Course 6.0002 \"Introduction and Optimization Problems\" (Fall 2016)"
   ]
  },
  {
   "cell_type": "markdown",
   "metadata": {},
   "source": [
    "### Software Engineering with emphasis on using package\n",
    "\n",
    "## Main topic of the course\n",
    "\n",
    "Coputational modes - How to use computation to understand the world\n",
    "\n",
    "What is a model? \n",
    "\n",
    "Experimental device to help people understand something that has happened - explaining phenomenon.\n",
    "\n",
    "or a model that will allow to predict the future - something that has not yet happened.\n",
    "\n",
    "Traditional experimentation must be complemented by computation.\n",
    "\n",
    "## Optimization models\n",
    "\n",
    "Starting with objective function to be maximized or minimized.\n",
    "\n",
    "e.g. minimizing travel time when looking for a route.\n",
    "\n",
    "And additional constraints on the model afterwards (budget, time constraints etc.)"
   ]
  },
  {
   "cell_type": "markdown",
   "metadata": {},
   "source": [
    "## Knapsack problem\n",
    "\n",
    "Often presented in a way: \"Imagine being a burglar wanting to maximize the stolen property, but You only have a knapsack with a certain volume and can select only certain items.\"\n",
    "\n",
    "1. You have limited strength, so there is a maximum weight knapsack that you can carry.\n",
    "2. You would like to take more stuff than You can carry.\n",
    "3. How to choose which stuff to take and what to leave behind.\n",
    "\n",
    "### Two variants of knapsack problem\n",
    "\n",
    "1. 0/1 knapsack problem - take a whole bar of gold or take none of it\n",
    "2. Continous or fractional knapsack problem - You can take a pieces of gold bar\n",
    "\n",
    "#### Problem 2\n",
    "\n",
    "\"boring\" and easy to solve, just take the most valuable stuff until You run out of space or the stuff and then move to the next.\n",
    "It can be solved with a \"greedy\" algorithm which will be referenced later on.\n",
    "\n",
    "\n",
    "#### Problem 1\n",
    "\n",
    "is much more complicated as the decision that You perform first will influence future decisions.\n",
    "\n",
    "Formalized:\n",
    "\n",
    "1. Each item is represented by a pair ```<value, weight>```\n",
    "2. You can take only limited amount of weight - w\n",
    "3. Vector L, of length n represents the set of available items. Each element of the vector is an item.\n",
    "4. Vector V, of length n, used to indicate whether or not items are taken. If ```V[i] = 1```, item ```I[i]``` is taken. If ```V[i] = 0```, item ```I[i]``` is not taken\n",
    "\n",
    "Mathematical solution:\n",
    "\n",
    "Find a V that maximizes:\n",
    "\n",
    "$$\n",
    "\\large \\sum_{i=0}^{n-1}V[i]*I[i].value\n",
    "$$\n",
    "\n",
    "subject to the constraint that\n",
    "\n",
    "$$\n",
    "\\large \\sum_{i=0}^{n-1}V[i]*I[i].weight \\leqslant w\n",
    "$$\n"
   ]
  },
  {
   "cell_type": "markdown",
   "metadata": {},
   "source": [
    "### Solution\n",
    "\n",
    "#### Brute force algorithm\n",
    "\n",
    "1. Enumerate all possible combinations of items. That is to say, generate all subsets of the set of items. This is called the ```power set```.\n",
    "\n",
    "2. Remove all of the combinations whose total units exceeds the allowed weight.\n",
    "\n",
    "3. From the remaining combinations chose any one whose value is largest.\n",
    "\n",
    "Translated to my language:\n",
    "\n",
    "1. Choose all of the possible combinations\n",
    "\n",
    "2. Remove all combintions exceeding the weight constraint\n",
    "\n",
    "3. Choose the most valuable combination\n",
    "\n",
    "#### This is often not practical solution\n",
    "\n",
    "### Sad truth\n",
    "\n",
    "Most optimization problems are so called \"exponential problems\"."
   ]
  },
  {
   "cell_type": "code",
   "execution_count": null,
   "metadata": {},
   "outputs": [],
   "source": []
  }
 ],
 "metadata": {
  "kernelspec": {
   "display_name": "Python 3",
   "language": "python",
   "name": "python3"
  }
 },
 "nbformat": 4,
 "nbformat_minor": 4
}
